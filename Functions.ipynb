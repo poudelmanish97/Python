{
 "cells": [
  {
   "cell_type": "code",
   "execution_count": 1,
   "id": "3345a1a5-df8f-4d08-977d-051002baf356",
   "metadata": {},
   "outputs": [
    {
     "data": {
      "text/plain": [
       "5"
      ]
     },
     "execution_count": 1,
     "metadata": {},
     "output_type": "execute_result"
    }
   ],
   "source": [
    "#sum of twop numbers\n",
    "def sum_of_two_numbers(a,b):\n",
    "    return a+b\n",
    "sum_of_two_numbers(2,3)"
   ]
  },
  {
   "cell_type": "code",
   "execution_count": 3,
   "id": "e2cb291b-63e8-4f5a-b222-5ff5c6beb0cd",
   "metadata": {},
   "outputs": [
    {
     "data": {
      "text/plain": [
       "'odd'"
      ]
     },
     "execution_count": 3,
     "metadata": {},
     "output_type": "execute_result"
    }
   ],
   "source": [
    "#Even or Odd check \n",
    "def func(num):\n",
    "    return 'Even' if num%2==0 else'odd'\n",
    "\n",
    "func(5)"
   ]
  },
  {
   "cell_type": "code",
   "execution_count": 5,
   "id": "60f91193-fc8e-45fe-bb75-e8341b8f8c8a",
   "metadata": {},
   "outputs": [
    {
     "data": {
      "text/plain": [
       "720"
      ]
     },
     "execution_count": 5,
     "metadata": {},
     "output_type": "execute_result"
    }
   ],
   "source": [
    "#factorial calculation\n",
    "def factorial(n):\n",
    "    if n==0:\n",
    "        return 1\n",
    "\n",
    "    else:\n",
    "        return n*factorial(n-1)\n",
    "\n",
    "factorial(6)"
   ]
  },
  {
   "cell_type": "code",
   "execution_count": 24,
   "id": "b35f8562-5a69-49b5-bd29-499222b6fae6",
   "metadata": {},
   "outputs": [
    {
     "data": {
      "text/plain": [
       "1"
      ]
     },
     "execution_count": 24,
     "metadata": {},
     "output_type": "execute_result"
    }
   ],
   "source": [
    "#count vowels in a string \n",
    "def count_vowels(s):\n",
    "    vowels ='aeiou'\n",
    "    return sum(1 for char in s.lower() if char in vowels)\n",
    "\n",
    "count_vowels('Python')"
   ]
  },
  {
   "cell_type": "code",
   "execution_count": 26,
   "id": "466b718a-623d-4109-a86b-1f845646d43e",
   "metadata": {},
   "outputs": [
    {
     "data": {
      "text/plain": [
       "'nohtyP'"
      ]
     },
     "execution_count": 26,
     "metadata": {},
     "output_type": "execute_result"
    }
   ],
   "source": [
    "#Reversing a string \n",
    "def rev_str(s):\n",
    "    return s[::-1]\n",
    "\n",
    "rev_str('Python')"
   ]
  },
  {
   "cell_type": "code",
   "execution_count": 30,
   "id": "a013997b-e9a7-443e-a88d-790fa0b7eeb7",
   "metadata": {},
   "outputs": [
    {
     "data": {
      "text/plain": [
       "[0, 1, 1, 2, 3, 5, 8]"
      ]
     },
     "execution_count": 30,
     "metadata": {},
     "output_type": "execute_result"
    }
   ],
   "source": [
    "#fibonacci sequence up to n :\n",
    "def fibonacci(n):\n",
    "    fib_sequence =[0,1]\n",
    "    while fib_sequence[-1]+fib_sequence[-2] <=n:\n",
    "        fib_sequence.append( fib_sequence[-1]+fib_sequence[-2])\n",
    "\n",
    "    return fib_sequence\n",
    "\n",
    "fibonacci(10)"
   ]
  },
  {
   "cell_type": "code",
   "execution_count": 40,
   "id": "91b800bd-0aad-4145-a146-258e36df39e2",
   "metadata": {},
   "outputs": [
    {
     "data": {
      "text/plain": [
       "1"
      ]
     },
     "execution_count": 40,
     "metadata": {},
     "output_type": "execute_result"
    }
   ],
   "source": [
    "#greatest common divisor\n",
    "def gdc(a,b):\n",
    "    while b:\n",
    "        a,b=b, a%b\n",
    "    return a\n",
    "gdc(4,5)\n"
   ]
  },
  {
   "cell_type": "code",
   "execution_count": 44,
   "id": "46752e05-5655-43d4-92aa-b50574c61431",
   "metadata": {},
   "outputs": [
    {
     "data": {
      "text/plain": [
       "8"
      ]
     },
     "execution_count": 44,
     "metadata": {},
     "output_type": "execute_result"
    }
   ],
   "source": [
    "#power calculation \n",
    "def power(x,y):\n",
    "    return x**y\n",
    "\n",
    "power(2,3)"
   ]
  },
  {
   "cell_type": "code",
   "execution_count": 46,
   "id": "f8917975-3bff-4c96-b1f6-e3ea92225bb6",
   "metadata": {},
   "outputs": [
    {
     "data": {
      "text/plain": [
       "[1, 2, 3, 2, 3, 4]"
      ]
     },
     "execution_count": 46,
     "metadata": {},
     "output_type": "execute_result"
    }
   ],
   "source": [
    "#merge lists \n",
    "def merge(list1,list2):\n",
    "    return list1+list2\n",
    "\n",
    "merge([1,2,3],[2,3,4])"
   ]
  },
  {
   "cell_type": "code",
   "execution_count": 48,
   "id": "e5d4062a-7d10-44f9-ad93-d608f99abb0d",
   "metadata": {},
   "outputs": [
    {
     "data": {
      "text/plain": [
       "[1, 3, 4, 22]"
      ]
     },
     "execution_count": 48,
     "metadata": {},
     "output_type": "execute_result"
    }
   ],
   "source": [
    "#remove duplicates from a list \n",
    "def remove_duplicates(a):\n",
    "    return list(set(a))\n",
    "\n",
    "remove_duplicates([1,22,3,4,3])\n"
   ]
  },
  {
   "cell_type": "code",
   "execution_count": 52,
   "id": "e2f3bdb2-57cc-489f-9521-4e9484e3554e",
   "metadata": {},
   "outputs": [
    {
     "data": {
      "text/plain": [
       "13"
      ]
     },
     "execution_count": 52,
     "metadata": {},
     "output_type": "execute_result"
    }
   ],
   "source": [
    "#Nth fibonacci nuumber \n",
    "def nth_fibonacci(n):\n",
    "    a,b=0,1\n",
    "    for _ in range(n):\n",
    "        a,b=b,a+b\n",
    "    return a\n",
    "\n",
    "nth_fibonacci(7)"
   ]
  },
  {
   "cell_type": "code",
   "execution_count": 58,
   "id": "109cbfef-762a-4855-aa43-e16a838ecbec",
   "metadata": {},
   "outputs": [
    {
     "data": {
      "text/plain": [
       "[2, 3, 5, 7, 11, 13, 17, 19, 23]"
      ]
     },
     "execution_count": 58,
     "metadata": {},
     "output_type": "execute_result"
    }
   ],
   "source": [
    "#prime numbers up to n \n",
    "def prime(n):\n",
    "    primes=[]\n",
    "    for num in range(2,n+1):\n",
    "        for i in range(2,int(num**0.5)+1):\n",
    "            if num%i==0:\n",
    "                break\n",
    "        else:\n",
    "            primes.append(num)\n",
    "\n",
    "    return primes\n",
    "\n",
    "prime(23)\n"
   ]
  },
  {
   "cell_type": "code",
   "execution_count": 76,
   "id": "aa6b239f-282e-4935-bb9c-8e9d88f2480d",
   "metadata": {},
   "outputs": [
    {
     "data": {
      "text/plain": [
       "14"
      ]
     },
     "execution_count": 76,
     "metadata": {},
     "output_type": "execute_result"
    }
   ],
   "source": [
    "#sum of digits \n",
    "def sum_of_digits(n):\n",
    "    return sum(int(digit) for digit in str(n))\n",
    "\n",
    "   \n",
    "sum_of_digits(77)"
   ]
  },
  {
   "cell_type": "code",
   "execution_count": 78,
   "id": "365e54fa-fbe0-4e6f-a702-476002c8ee40",
   "metadata": {},
   "outputs": [
    {
     "data": {
      "text/plain": [
       "6"
      ]
     },
     "execution_count": 78,
     "metadata": {},
     "output_type": "execute_result"
    }
   ],
   "source": [
    "#length of a String \n",
    "def length_of_string(s):\n",
    "    count =0\n",
    "    for _ in s:\n",
    "        count+=1\n",
    "\n",
    "    return count\n",
    "\n",
    "length_of_string('Manish')"
   ]
  },
  {
   "cell_type": "code",
   "execution_count": 80,
   "id": "f7918f80-a130-4801-967d-e0254a492ea4",
   "metadata": {},
   "outputs": [
    {
     "data": {
      "text/plain": [
       "[2, 2, 3, 3, 4, 5]"
      ]
     },
     "execution_count": 80,
     "metadata": {},
     "output_type": "execute_result"
    }
   ],
   "source": [
    "#sort the list of integers \n",
    "def sort_list(n):\n",
    "    return sorted(n)\n",
    "\n",
    "sort_list([2,3,4,5,2,3])"
   ]
  },
  {
   "cell_type": "code",
   "execution_count": 82,
   "id": "97ab41de-6952-4607-8b44-023ab55fdbad",
   "metadata": {},
   "outputs": [
    {
     "data": {
      "text/plain": [
       "False"
      ]
     },
     "execution_count": 82,
     "metadata": {},
     "output_type": "execute_result"
    }
   ],
   "source": [
    "#leap year check \n",
    "def is_leap_year(year):\n",
    "    return(year%4==0 and year%100!=0) or(year%400==0)\n",
    "\n",
    "is_leap_year(2006)"
   ]
  },
  {
   "cell_type": "code",
   "execution_count": null,
   "id": "2fe15581-d52f-4a61-b2f2-d5c143048c16",
   "metadata": {},
   "outputs": [],
   "source": [
    "#square root calculationb\n",
    "import math\n",
    "def square_root(n):\n",
    "    return math.sqrt(n)\n",
    "\n",
    "square_root(25)"
   ]
  }
 ],
 "metadata": {
  "kernelspec": {
   "display_name": "Python 3 (ipykernel)",
   "language": "python",
   "name": "python3"
  },
  "language_info": {
   "codemirror_mode": {
    "name": "ipython",
    "version": 3
   },
   "file_extension": ".py",
   "mimetype": "text/x-python",
   "name": "python",
   "nbconvert_exporter": "python",
   "pygments_lexer": "ipython3",
   "version": "3.12.4"
  }
 },
 "nbformat": 4,
 "nbformat_minor": 5
}
