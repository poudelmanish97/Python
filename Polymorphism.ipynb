{
 "cells": [
  {
   "cell_type": "code",
   "execution_count": 23,
   "id": "a331507b-4d09-4245-aaeb-205000b34650",
   "metadata": {},
   "outputs": [
    {
     "name": "stdout",
     "output_type": "stream",
     "text": [
      "Toyota\n",
      "2000\n",
      "Move\n",
      "ship\n",
      "2300\n",
      "Sail\n",
      "Qatar Airlines\n",
      "450\n",
      "fly\n"
     ]
    }
   ],
   "source": [
    "# It refers to the methods /funstions / operators with the same name that can be executed on many objects or classes\n",
    "class Car() :\n",
    "    def __init__(self, brand , model):\n",
    "        self.brand= brand\n",
    "        self.model=model\n",
    "    def move(self):\n",
    "        print (\"Move\")\n",
    "\n",
    "class Boat():\n",
    "    def __init__(self, brand , model):\n",
    "        self.brand= brand\n",
    "        self.model=model\n",
    "    def move(self):\n",
    "        print(\"Sail\")\n",
    "        \n",
    "class Plane():\n",
    "    def __init__(self, brand , model):\n",
    "        self.brand= brand\n",
    "        self.model=model\n",
    "    def move(self):\n",
    "        print(\"fly\")\n",
    "\n",
    "car1 = Car(\"Toyota\" , \"2000\") # Creating objects \n",
    "boat =Boat(\"ship\" ,\"2300\" )\n",
    "plane=Plane(\"Qatar Airlines\", \"450\")\n",
    "\n",
    "for x in (car1 , boat , plane ):\n",
    "    print (x.brand)\n",
    "    print(x.model)\n",
    "    x.move()"
   ]
  },
  {
   "cell_type": "code",
   "execution_count": 15,
   "id": "dedf4658-719a-4055-95fc-60cfd3fd752f",
   "metadata": {},
   "outputs": [
    {
     "name": "stdout",
     "output_type": "stream",
     "text": [
      "Bark\n",
      "Meow\n",
      "animal  sound\n"
     ]
    }
   ],
   "source": [
    " #Method Overriding (Inheritance):\n",
    "\n",
    "class Animal():\n",
    "    def sound(self):\n",
    "        return \"animal  sound\"\n",
    "\n",
    "class Dog(Animal):\n",
    "    def sound(self):\n",
    "        return \"Bark\"\n",
    "\n",
    "class Cat(Animal):\n",
    "    def sound(self):\n",
    "        return \"Meow\"\n",
    "\n",
    "def make_sound(animal):\n",
    "    print(animal.sound())\n",
    "        \n",
    "\n",
    "dog =Dog()\n",
    "cat =Cat()\n",
    "animal= Animal()\n",
    "make_sound(dog)\n",
    "make_sound(cat)\n",
    "make_sound(animal)\n"
   ]
  },
  {
   "cell_type": "code",
   "execution_count": 18,
   "id": "aedc2f2e-06aa-42ca-a760-9127d7d791ea",
   "metadata": {},
   "outputs": [
    {
     "name": "stdout",
     "output_type": "stream",
     "text": [
      "3\n",
      "6\n"
     ]
    }
   ],
   "source": [
    "#\n",
    "#In this example, the add method can take two or three arguments, depending on the call, \n",
    "#showcasing polymorphism through different usages of the same method.\n",
    "\n",
    "class Math :\n",
    "    def add(self , a, b, c=0):\n",
    "        return a+b+c\n",
    "\n",
    "math = Math()\n",
    "print(math.add(1,2))\n",
    "print(math.add(1,2,3))\n",
    "\n"
   ]
  },
  {
   "cell_type": "code",
   "execution_count": 32,
   "id": "85e615b4-c7d4-49c0-a12c-279440bfb80d",
   "metadata": {},
   "outputs": [
    {
     "name": "stdout",
     "output_type": "stream",
     "text": [
      "(6, 8)\n"
     ]
    }
   ],
   "source": [
    "#Task:\n",
    "#Create a Vector class with attributes x and y. \n",
    "#Implement the __add__ method to overload the + operator to add two Vector objects.\n",
    "\n",
    "class Vector :\n",
    "    def __init__(self, x , y):\n",
    "        self.x = x\n",
    "        self.y =y\n",
    "    def __add__ (self , other): # overload the + operator \n",
    "        return (self.x +other.x, self.y +other.y)\n",
    "       def __str__(self): #dor the string representation if the vector \n",
    "        return f\"Vector({self.x}, {self.y})\"\n",
    "\n",
    "\n",
    "v1 = Vector(1,2) # making the objects \n",
    "v2 = Vector(5,6)\n",
    "v3 = v1+ v2\n",
    "print(v3)\n",
    "\n",
    "\n",
    "\n",
    "\n",
    "\n"
   ]
  },
  {
   "cell_type": "code",
   "execution_count": 37,
   "id": "0eaf5ced-ccd7-4114-b090-cc31347a4a5d",
   "metadata": {},
   "outputs": [
    {
     "name": "stdout",
     "output_type": "stream",
     "text": [
      "Payment made using credit card\n",
      "Payment made using paypal\n",
      "Payment made using credit card\n",
      "Payment made using paypal\n"
     ]
    }
   ],
   "source": [
    "#Create a base class Payment with a method pay(). Implement two derived classes, CreditCard and PayPal, that override the pay() method. \n",
    "#CreditCard should print \"Payment made using Credit Card\" and PayPal should print \"Payment made using PayPal\".\n",
    "class Payment:\n",
    "    def pay(self):\n",
    "        pass\n",
    "\n",
    "class CreditCard(Payment):\n",
    "    def pay(self):\n",
    "        return \"Payment made using credit card\"\n",
    "\n",
    "class PayPal(Payment):\n",
    "    def pay(self):\n",
    "        return \"Payment made using paypal\"\n",
    "# first way\n",
    "x = CreditCard()\n",
    "y = PayPal()\n",
    "print (x.pay())\n",
    "print (y.pay())\n",
    "# Sexcond way \n",
    "methods = [CreditCard(), PayPal()]\n",
    "for waysofpayment in methods :\n",
    "    print (waysofpayment.pay())\n",
    "\n",
    "        \n",
    "\n",
    "\n",
    "\n"
   ]
  },
  {
   "cell_type": "code",
   "execution_count": 39,
   "id": "30cd0a1d-5bb2-4dfa-9ed7-d5a922dc941d",
   "metadata": {},
   "outputs": [
    {
     "name": "stdout",
     "output_type": "stream",
     "text": [
      "Reading the text file\n",
      "Reading the binary file \n"
     ]
    }
   ],
   "source": [
    "#Polymorphism for file processing\n",
    "#Create an abstract base class File with an abstract method read().\n",
    "#Implement two derived classes, TextFile and BinaryFile,\n",
    "#that override the read() method to print \"Reading text file\" and \"Reading binary file\" respectively.\n",
    "from abc import ABC , abstractmethod\n",
    "\n",
    "class File(ABC):\n",
    "    def read(self):\n",
    "        pass\n",
    "\n",
    "class TextFile(File):\n",
    "    def read(self):\n",
    "        return \"Reading the text file\"\n",
    "\n",
    "class BinaryFile(File):\n",
    "    def read(self):\n",
    "        return \"Reading the binary file \"\n",
    "\n",
    "for x in [TextFile(), BinaryFile()]:\n",
    "    print (x.read())"
   ]
  },
  {
   "cell_type": "code",
   "execution_count": 42,
   "id": "e2cc9bf7-2f1d-4be5-a48f-a65a6c269902",
   "metadata": {},
   "outputs": [
    {
     "name": "stdout",
     "output_type": "stream",
     "text": [
      "Drawing rectangle\n",
      " Drawing Circle\n"
     ]
    }
   ],
   "source": [
    "#Create an interface Drawable with a method draw(). \n",
    "#Implement this interface in two classes, Rectangle and Circle, \n",
    "#with draw() methods that print \"Drawing Rectangle\" and \"Drawing Circle\" respectively.\n",
    "\n",
    "\n",
    "class Drawable():\n",
    "    def draw(self):\n",
    "        pass\n",
    "\n",
    "class Rectangle(Drawable):\n",
    "    def draw(self):\n",
    "        return \"Drawing rectangle\"\n",
    "\n",
    "class Circle(Drawable):\n",
    "    def draw(self):\n",
    "        return \" Drawing Circle\"\n",
    "\n",
    "drawingmethods =[Rectangle(), Circle()]\n",
    "for x in drawingmethods:\n",
    "    print (x.draw())\n",
    "\n",
    "\n",
    "\n",
    "\n"
   ]
  },
  {
   "cell_type": "code",
   "execution_count": 1,
   "id": "98957b5e-12b0-4def-b8d4-9055736266f9",
   "metadata": {},
   "outputs": [
    {
     "ename": "SyntaxError",
     "evalue": "invalid syntax (698010910.py, line 2)",
     "output_type": "error",
     "traceback": [
      "\u001b[1;36m  Cell \u001b[1;32mIn[1], line 2\u001b[1;36m\u001b[0m\n\u001b[1;33m    Objective:\u001b[0m\n\u001b[1;37m              ^\u001b[0m\n\u001b[1;31mSyntaxError\u001b[0m\u001b[1;31m:\u001b[0m invalid syntax\n"
     ]
    }
   ],
   "source": [
    "#Small Project: Library Management System\n",
    "Objective:\n",
    "Create a simple library management system that handles different types of library items (books, magazines, and DVDs). \n",
    "The system should be able to display information about each item #and check them out.\n",
    "\n",
    "#Project Structure:\n",
    "\n",
    "#Base Class: LibraryItem\n",
    "Derived Classes: Book, Magazine, DVD\n",
    "Common Interface: All items can be checked out# and display their information.\n",
    "\n",
    "\n"
   ]
  },
  {
   "cell_type": "code",
   "execution_count": null,
   "id": "a057a202-1519-429a-a281-3f5fd2abd01d",
   "metadata": {},
   "outputs": [],
   "source": [
    "#"
   ]
  }
 ],
 "metadata": {
  "kernelspec": {
   "display_name": "Python 3 (ipykernel)",
   "language": "python",
   "name": "python3"
  },
  "language_info": {
   "codemirror_mode": {
    "name": "ipython",
    "version": 3
   },
   "file_extension": ".py",
   "mimetype": "text/x-python",
   "name": "python",
   "nbconvert_exporter": "python",
   "pygments_lexer": "ipython3",
   "version": "3.11.7"
  }
 },
 "nbformat": 4,
 "nbformat_minor": 5
}
